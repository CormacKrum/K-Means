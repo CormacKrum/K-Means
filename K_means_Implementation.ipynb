{
 "cells": [
  {
   "cell_type": "code",
   "execution_count": 11,
   "metadata": {},
   "outputs": [],
   "source": [
    "import numpy as np\n",
    "from sklearn.datasets import make_blobs\n",
    "import matplotlib.pyplot as plt\n",
    "import random"
   ]
  },
  {
   "cell_type": "code",
   "execution_count": 12,
   "metadata": {},
   "outputs": [],
   "source": [
    "X,y=make_blobs(centers=3,random_state=42)"
   ]
  },
  {
   "cell_type": "code",
   "execution_count": 13,
   "metadata": {},
   "outputs": [],
   "source": [
    "class Cluster:\n",
    "    def __init__(self,label,center):\n",
    "        self.center=center\n",
    "        self.points=[]\n",
    "        self.label=label\n",
    "    def relocate(self):\n",
    "        self.center=np.mean(self.points,axis=0)\n",
    "        self.points=[]\n",
    "    def distance(self,point):\n",
    "        return np.sqrt(((self.center-point)**2).sum())\n",
    "        "
   ]
  },
  {
   "cell_type": "code",
   "execution_count": 14,
   "metadata": {},
   "outputs": [],
   "source": [
    "class KMeansCustom:\n",
    "    def __init__(self,n_clusters=3):\n",
    "        self.n_clusters=n_clusters\n",
    "    def fit(self,X):\n",
    "        self.__X=X\n",
    "        self.__clusters=[]\n",
    "        for i in range(self.n_clusters):\n",
    "            cluster=Cluster(i,random.choice(X))\n",
    "            self.__clusters.append(cluster)\n",
    "        for i in range(20):\n",
    "            labels=[]\n",
    "            for point in X:\n",
    "                dist_points=[]\n",
    "                for cluster in self.__clusters:\n",
    "                    dist_points.append((cluster.distance(point),cluster))\n",
    "                selected=sorted(dist_points)[0]\n",
    "                selected_cluster=selected[1]\n",
    "                selected_cluster.points.append(point)\n",
    "                labels.append(selected_cluster.label)\n",
    "                \n",
    "            for cluster in self.__clusters:\n",
    "                cluster.relocate()\n",
    "                \n",
    "        list_cc=[]\n",
    "        for cluster in self.__clusters:\n",
    "            list_cc.append(cluster.center)\n",
    "        self.cluster_centers_=np.array(list_cc)\n",
    "        self.labels_=np.array(labels)"
   ]
  },
  {
   "cell_type": "code",
   "execution_count": 15,
   "metadata": {},
   "outputs": [],
   "source": [
    "model=KMeansCustom()"
   ]
  },
  {
   "cell_type": "code",
   "execution_count": 16,
   "metadata": {},
   "outputs": [
    {
     "data": {
      "text/plain": [
       "array([[ 4.49951001,  1.93892013],\n",
       "       [-2.66780392,  8.93576069],\n",
       "       [-6.95170962, -6.67621669]])"
      ]
     },
     "execution_count": 16,
     "metadata": {},
     "output_type": "execute_result"
    }
   ],
   "source": [
    "model.fit(X)\n",
    "model.cluster_centers_"
   ]
  },
  {
   "cell_type": "code",
   "execution_count": 17,
   "metadata": {},
   "outputs": [
    {
     "data": {
      "image/png": "[encoded data removed]",
      "text/plain": [
       "<Figure size 432x288 with 1 Axes>"
      ]
     },
     "metadata": {
      "needs_background": "light"
     },
     "output_type": "display_data"
    }
   ],
   "source": [
    "plt.scatter(X[:,0],X[:,1],c=model.labels_)\n",
    "for center in model.cluster_centers_:\n",
    "    plt.scatter(center[0],center[1],s=80)"
   ]
  },
  {
   "cell_type": "code",
   "execution_count": null,
   "metadata": {},
   "outputs": [],
   "source": []
  },
  {
   "cell_type": "code",
   "execution_count": null,
   "metadata": {},
   "outputs": [],
   "source": []
  }
 ],
 "metadata": {
  "kernelspec": {
   "display_name": "Python 3",
   "language": "python",
   "name": "python3"
  },
  "language_info": {
   "codemirror_mode": {
    "name": "ipython",
    "version": 3
   },
   "file_extension": ".py",
   "mimetype": "text/x-python",
   "name": "python",
   "nbconvert_exporter": "python",
   "pygments_lexer": "ipython3",
   "version": "3.7.4"
  }
 },
 "nbformat": 4,
 "nbformat_minor": 4
}
